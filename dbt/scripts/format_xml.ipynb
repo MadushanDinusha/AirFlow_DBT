{
 "cells": [
  {
   "cell_type": "code",
   "execution_count": 3,
   "metadata": {},
   "outputs": [
    {
     "name": "stdout",
     "output_type": "stream",
     "text": [
      "XML and JSON data saved to E:\\project-upwork\\poc\\seeds\\xml_data.csv\n"
     ]
    }
   ],
   "source": [
    "import psycopg2\n",
    "import json\n",
    "from xml.etree import ElementTree as ET\n",
    "import csv\n",
    "import re\n",
    "\n",
    "dbname = \"dbt_poc\"\n",
    "user = \"postgres\"\n",
    "password = \"admin\"\n",
    "host = \"localhost\"\n",
    "port = \"5432\"\n",
    "\n",
    "def extract_and_rebuild_xml(xml_file, metadata_table, output_csv):\n",
    "    conn = psycopg2.connect(dbname=dbname, user=user, password=password, host=host, port=port)\n",
    "\n",
    "    cur = conn.cursor()\n",
    "    cur.execute(f\"SELECT tag FROM {metadata_table} WHERE active = TRUE\")\n",
    "    necessary_tags = [row[0] for row in cur.fetchall()]\n",
    "    cur.close()\n",
    "    conn.close()\n",
    "\n",
    "    with open(xml_file, 'r', encoding='utf-8') as f:\n",
    "        xml_content = f.read()\n",
    "\n",
    "    root_tag = \"genericSMF\"\n",
    "    pattern = rf'(<{root_tag}>.*?</{root_tag}>)'\n",
    "    xml_documents = re.findall(pattern, xml_content, re.DOTALL)\n",
    "\n",
    "    all_xml_str = []\n",
    "    all_json_data = []\n",
    "\n",
    "    for xml_doc in xml_documents:\n",
    "        try:\n",
    "            tree = ET.ElementTree(ET.fromstring(xml_doc))\n",
    "            root = tree.getroot()\n",
    "\n",
    "            def filter_tags(element):\n",
    "                if element.tag in necessary_tags:\n",
    "                    return element\n",
    "                else:\n",
    "                    return [child for child in element.iter() if child.tag in necessary_tags]\n",
    "\n",
    "            filtered_elements = filter_tags(root)\n",
    "\n",
    "            new_root = ET.Element(root.tag)\n",
    "            for element in filtered_elements:\n",
    "                new_root.append(element)\n",
    "\n",
    "            xml_str = ET.tostring(new_root, encoding='unicode')\n",
    "            json_data = json.dumps(xml_to_dict(xml_str), indent=4)\n",
    "            all_xml_str.append(xml_str.strip())\n",
    "            all_json_data.append(json_data.strip())\n",
    "        except ET.ParseError as e:\n",
    "            print(f\"Error parsing XML document: {e}\")\n",
    "            continue\n",
    "\n",
    "    with open(output_csv, 'w', newline='') as f:\n",
    "        writer = csv.writer(f)\n",
    "        writer.writerow([\"attbr_xml\", \"attbr_json\"])  \n",
    "        for xml_str, json_data in zip(all_xml_str, all_json_data):\n",
    "            writer.writerow([xml_str, json_data])\n",
    "\n",
    "def xml_to_dict(xml_str):\n",
    "    root = ET.fromstring(xml_str)\n",
    "    return {root.tag: xml_to_dict_helper(root)}\n",
    "\n",
    "def xml_to_dict_helper(element):\n",
    "    if len(element) == 0:\n",
    "        return element.text if element.text else ''\n",
    "    result = {}\n",
    "    for child in element:\n",
    "        child_result = xml_to_dict_helper(child)\n",
    "        if child.tag in result:\n",
    "            if isinstance(result[child.tag], list):\n",
    "                result[child.tag].append(child_result)\n",
    "            else:\n",
    "                result[child.tag] = [result[child.tag], child_result]\n",
    "        else:\n",
    "            result[child.tag] = child_result\n",
    "    return result\n",
    "\n",
    "xml_file = \"C:\\\\Users\\\\asus\\\\Downloads\\\\madhu\\\\SMFsourcefile.xml\"\n",
    "metadata_table = \"metadata.metadata_table\"\n",
    "output_csv = \"E:\\\\project-upwork\\\\poc\\\\seeds\\\\xml_data.csv\"\n",
    "\n",
    "extract_and_rebuild_xml(xml_file, metadata_table, output_csv)\n",
    "print(f\"XML and JSON data saved to {output_csv}\")\n"
   ]
  },
  {
   "cell_type": "code",
   "execution_count": null,
   "metadata": {},
   "outputs": [],
   "source": []
  },
  {
   "cell_type": "code",
   "execution_count": null,
   "metadata": {},
   "outputs": [],
   "source": []
  }
 ],
 "metadata": {
  "kernelspec": {
   "display_name": "Python 3.12.3 64-bit",
   "language": "python",
   "name": "python3"
  },
  "language_info": {
   "codemirror_mode": {
    "name": "ipython",
    "version": 3
   },
   "file_extension": ".py",
   "mimetype": "text/x-python",
   "name": "python",
   "nbconvert_exporter": "python",
   "pygments_lexer": "ipython3",
   "version": "3.12.3"
  },
  "orig_nbformat": 4,
  "vscode": {
   "interpreter": {
    "hash": "1e0a0e7ce0d4296025695ae7a5702a0a347ba60d4d9b82e53a700fae2aecce95"
   }
  }
 },
 "nbformat": 4,
 "nbformat_minor": 2
}
